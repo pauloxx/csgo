{
 "cells": [
  {
   "cell_type": "code",
   "execution_count": 9,
   "id": "481c1b1b",
   "metadata": {},
   "outputs": [],
   "source": [
    "import fastparquet\n",
    "import pandas as pd"
   ]
  },
  {
   "cell_type": "code",
   "execution_count": 10,
   "id": "dae2adae",
   "metadata": {},
   "outputs": [],
   "source": [
    "gs_filename = 'gs://my-project-bucket-px/landing1/matchdata'\n",
    "matches_df = pd.read_parquet(gs_filename, engine='fastparquet')"
   ]
  },
  {
   "cell_type": "code",
   "execution_count": 11,
   "id": "3c6a14a1",
   "metadata": {},
   "outputs": [],
   "source": [
    "unwanted_cols = ['roundNum', 'tick', 'activeWeapon', 'isBlinded', 'isAirborne', 'isDucking', 'isStanding', 'isScoped',\n",
    "                 'isWalking', 'cash', 'enemy_in_range_200', 'enemy_in_range_500', 'enemy_in_range_1000',\n",
    "                 'enemy_hp_in_range_500', 'enemy_hp_in_range_1000', 'enemy_hp_in_range_2000', 'team_in_range_200', \n",
    "                 'team_in_range_1000', 'equipment_value_team', 'equipment_value_enemy', 'distance_closest_enemy',\n",
    "                 'weapon_closest_enemy', 'isAlive', 'kills_from_avg', 'deaths_from_avg', 'enemy_equipment_in_range_500',\n",
    "                 'enemy_equipment_in_range_1000', 'enemy_equipment_in_range_2000', 'total_hp_team', 'total_hp_enemy']"
   ]
  },
  {
   "cell_type": "code",
   "execution_count": 12,
   "id": "b2269175",
   "metadata": {},
   "outputs": [
    {
     "name": "stdout",
     "output_type": "stream",
     "text": [
      "           hp  armor  equipmentValue  hasHelmet  num_enemy_alive  \\\n",
      "0         100      0             400      False                5   \n",
      "1         100      0             400      False                5   \n",
      "2         100      0             400      False                5   \n",
      "3         100      0             400      False                5   \n",
      "4         100      0             400      False                5   \n",
      "...       ...    ...             ...        ...              ...   \n",
      "19143924   73      0             500      False                3   \n",
      "19143925    0      0             500      False                3   \n",
      "19143926    0      0             500      False                2   \n",
      "19143927    0      0             500      False                2   \n",
      "19143928    0      0             500      False                2   \n",
      "\n",
      "          num_team_alive  enemy_in_range_2000  team_in_range_500  \\\n",
      "0                      5                    0                  5   \n",
      "1                      5                    0                  4   \n",
      "2                      5                    0                  2   \n",
      "3                      5                    0                  2   \n",
      "4                      5                    0                  2   \n",
      "...                  ...                  ...                ...   \n",
      "19143924               3                    3                  2   \n",
      "19143925               2                    0                  0   \n",
      "19143926               2                    0                  0   \n",
      "19143927               2                    0                  0   \n",
      "19143928               2                    0                  0   \n",
      "\n",
      "          hp_closest_enemy  isDead  \n",
      "0                      100     0.0  \n",
      "1                      100     0.0  \n",
      "2                      100     0.0  \n",
      "3                      100     0.0  \n",
      "4                      100     0.0  \n",
      "...                    ...     ...  \n",
      "19143924                18     0.0  \n",
      "19143925                 0     1.0  \n",
      "19143926                 0     1.0  \n",
      "19143927                 0     1.0  \n",
      "19143928                 0     1.0  \n",
      "\n",
      "[19143929 rows x 10 columns]\n"
     ]
    }
   ],
   "source": [
    "matches_modified = matches_df.drop(unwanted_cols, axis='columns')\n",
    "\n",
    "print(matches_modified)"
   ]
  },
  {
   "cell_type": "code",
   "execution_count": 13,
   "id": "4fe3544b",
   "metadata": {},
   "outputs": [],
   "source": [
    "matches_modified = matches_modified[ (matches_modified['num_team_alive'] >= 2)  ]\n",
    "\n",
    "matches_modified = matches_modified[ (matches_modified['hp_closest_enemy'] > 0)  ]\n"
   ]
  },
  {
   "cell_type": "code",
   "execution_count": 14,
   "id": "3e57ec27",
   "metadata": {},
   "outputs": [
    {
     "name": "stdout",
     "output_type": "stream",
     "text": [
      "           hp  armor  equipmentValue  hasHelmet  num_enemy_alive  \\\n",
      "0         100      0             400      False                5   \n",
      "1         100      0             400      False                5   \n",
      "2         100      0             400      False                5   \n",
      "3         100      0             400      False                5   \n",
      "4         100      0             400      False                5   \n",
      "...       ...    ...             ...        ...              ...   \n",
      "19143920  100      0             500      False                3   \n",
      "19143921  100      0             500      False                3   \n",
      "19143922  100      0             500      False                3   \n",
      "19143923  100      0             500      False                3   \n",
      "19143924   73      0             500      False                3   \n",
      "\n",
      "          num_team_alive  enemy_in_range_2000  team_in_range_500  \\\n",
      "0                      5                    0                  5   \n",
      "1                      5                    0                  4   \n",
      "2                      5                    0                  2   \n",
      "3                      5                    0                  2   \n",
      "4                      5                    0                  2   \n",
      "...                  ...                  ...                ...   \n",
      "19143920               3                    3                  1   \n",
      "19143921               3                    3                  1   \n",
      "19143922               3                    3                  1   \n",
      "19143923               3                    3                  2   \n",
      "19143924               3                    3                  2   \n",
      "\n",
      "          hp_closest_enemy  isDead  \n",
      "0                      100     0.0  \n",
      "1                      100     0.0  \n",
      "2                      100     0.0  \n",
      "3                      100     0.0  \n",
      "4                      100     0.0  \n",
      "...                    ...     ...  \n",
      "19143920               100     0.0  \n",
      "19143921               100     0.0  \n",
      "19143922               100     0.0  \n",
      "19143923               100     0.0  \n",
      "19143924                18     0.0  \n",
      "\n",
      "[14145040 rows x 10 columns]\n"
     ]
    }
   ],
   "source": [
    "print(matches_modified)"
   ]
  },
  {
   "cell_type": "code",
   "execution_count": 15,
   "id": "5e9dd343",
   "metadata": {},
   "outputs": [],
   "source": [
    "matches_modified.to_parquet('cleaned_matchdata.parquet', engine='fastparquet')"
   ]
  },
  {
   "cell_type": "code",
   "execution_count": 16,
   "id": "44341c27",
   "metadata": {},
   "outputs": [],
   "source": [
    "from google.cloud import storage\n",
    "\n",
    "client = storage.Client()\n",
    "\n",
    "bucket_name = 'my-project-bucket-px'\n",
    "file = 'cleaned_matchdata.parquet'\n",
    "\n",
    "destination_blob_name = 'cleaned/cleaned_matchdata.parquet'\n",
    "\n",
    "bucket = client.bucket(bucket_name)\n",
    "blob = bucket.blob(destination_blob_name)\n",
    "blob.upload_from_filename(file)"
   ]
  },
  {
   "cell_type": "code",
   "execution_count": null,
   "id": "2920fa83",
   "metadata": {},
   "outputs": [],
   "source": []
  }
 ],
 "metadata": {
  "kernelspec": {
   "display_name": "Python 3 (ipykernel)",
   "language": "python",
   "name": "python3"
  },
  "language_info": {
   "codemirror_mode": {
    "name": "ipython",
    "version": 3
   },
   "file_extension": ".py",
   "mimetype": "text/x-python",
   "name": "python",
   "nbconvert_exporter": "python",
   "pygments_lexer": "ipython3",
   "version": "3.10.9"
  }
 },
 "nbformat": 4,
 "nbformat_minor": 5
}
