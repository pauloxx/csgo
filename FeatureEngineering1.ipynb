{
 "cells": [
  {
   "cell_type": "code",
   "execution_count": 6,
   "id": "caee537d",
   "metadata": {},
   "outputs": [
    {
     "data": {
      "text/html": [
       "\n",
       "            <div>\n",
       "                <p><b>SparkSession - hive</b></p>\n",
       "                \n",
       "        <div>\n",
       "            <p><b>SparkContext</b></p>\n",
       "\n",
       "            <p><a href=\"http://cluster-7796-m.us-central1-a.c.steel-bliss-415115.internal:34985\">Spark UI</a></p>\n",
       "\n",
       "            <dl>\n",
       "              <dt>Version</dt>\n",
       "                <dd><code>v3.5.0</code></dd>\n",
       "              <dt>Master</dt>\n",
       "                <dd><code>yarn</code></dd>\n",
       "              <dt>AppName</dt>\n",
       "                <dd><code>PySparkShell</code></dd>\n",
       "            </dl>\n",
       "        </div>\n",
       "        \n",
       "            </div>\n",
       "        "
      ],
      "text/plain": [
       "<pyspark.sql.session.SparkSession at 0x7fa3e94c8590>"
      ]
     },
     "execution_count": 6,
     "metadata": {},
     "output_type": "execute_result"
    }
   ],
   "source": [
    "spark"
   ]
  },
  {
   "cell_type": "code",
   "execution_count": 7,
   "id": "dcc49712",
   "metadata": {},
   "outputs": [],
   "source": [
    "from pyspark.sql.functions import *\n",
    "from pyspark.ml.feature import StringIndexer, OneHotEncoder, VectorAssembler, MinMaxScaler\n",
    "from pyspark.ml import Pipeline\n",
    "from pyspark.ml.classification import LogisticRegression\n",
    "from pyspark.ml.regression import LinearRegression, GeneralizedLinearRegression\n",
    "from pyspark.ml.evaluation import BinaryClassificationEvaluator, RegressionEvaluator\n",
    "from pyspark.ml.tuning import CrossValidator, ParamGridBuilder\n",
    "import numpy as np"
   ]
  },
  {
   "cell_type": "code",
   "execution_count": 8,
   "id": "59a5ab11",
   "metadata": {},
   "outputs": [
    {
     "name": "stderr",
     "output_type": "stream",
     "text": [
      "[Stage 2:=========>         (1 + 1) / 2][Stage 4:>                  (0 + 1) / 1]\r"
     ]
    },
    {
     "name": "stdout",
     "output_type": "stream",
     "text": [
      "+-----+---+-----+--------------+---------+---------------+--------------+-------------------+-----------------+----------------+------+\n",
      "|index| hp|armor|equipmentValue|hasHelmet|num_enemy_alive|num_team_alive|enemy_in_range_2000|team_in_range_500|hp_closest_enemy|isDead|\n",
      "+-----+---+-----+--------------+---------+---------------+--------------+-------------------+-----------------+----------------+------+\n",
      "|    0|100|    0|           400|    false|              5|             5|                  0|                5|             100|   0.0|\n",
      "|    1|100|    0|           400|    false|              5|             5|                  0|                4|             100|   0.0|\n",
      "|    2|100|    0|           400|    false|              5|             5|                  0|                2|             100|   0.0|\n",
      "|    3|100|    0|           400|    false|              5|             5|                  0|                2|             100|   0.0|\n",
      "|    4|100|    0|           400|    false|              5|             5|                  0|                2|             100|   0.0|\n",
      "|    5|100|    0|           400|    false|              5|             5|                  0|                2|             100|   0.0|\n",
      "|    6|100|    0|           400|    false|              5|             5|                  0|                2|             100|   0.0|\n",
      "|    7|100|    0|           400|    false|              5|             5|                  0|                2|             100|   0.0|\n",
      "|    8|100|    0|           400|    false|              5|             5|                  0|                2|             100|   0.0|\n",
      "|    9|100|    0|           400|    false|              5|             5|                  2|                2|             100|   0.0|\n",
      "|   10|100|    0|           400|    false|              5|             5|                  3|                1|             100|   0.0|\n",
      "|   11|100|    0|           400|    false|              5|             5|                  3|                1|             100|   0.0|\n",
      "|   12|100|    0|           400|    false|              5|             5|                  3|                1|             100|   0.0|\n",
      "|   13|100|    0|           400|    false|              5|             5|                  3|                1|             100|   0.0|\n",
      "|   14|100|    0|           400|    false|              5|             5|                  3|                2|             100|   0.0|\n",
      "|   15|100|    0|           400|    false|              5|             5|                  3|                2|             100|   0.0|\n",
      "|   16|100|    0|           400|    false|              5|             5|                  3|                2|             100|   0.0|\n",
      "|   17|100|    0|           400|    false|              5|             5|                  3|                2|             100|   0.0|\n",
      "|   18|100|    0|           400|    false|              5|             5|                  3|                2|             100|   0.0|\n",
      "|   19|100|    0|           400|    false|              5|             5|                  3|                2|             100|   0.0|\n",
      "+-----+---+-----+--------------+---------+---------------+--------------+-------------------+-----------------+----------------+------+\n",
      "only showing top 20 rows\n",
      "\n",
      "root\n",
      " |-- index: long (nullable = true)\n",
      " |-- hp: long (nullable = true)\n",
      " |-- armor: long (nullable = true)\n",
      " |-- equipmentValue: long (nullable = true)\n",
      " |-- hasHelmet: boolean (nullable = true)\n",
      " |-- num_enemy_alive: long (nullable = true)\n",
      " |-- num_team_alive: long (nullable = true)\n",
      " |-- enemy_in_range_2000: long (nullable = true)\n",
      " |-- team_in_range_500: long (nullable = true)\n",
      " |-- hp_closest_enemy: long (nullable = true)\n",
      " |-- isDead: double (nullable = true)\n",
      "\n"
     ]
    },
    {
     "name": "stderr",
     "output_type": "stream",
     "text": [
      "\r",
      "                                                                                \r"
     ]
    }
   ],
   "source": [
    "file_path = 'gs://my-project-bucket-px/cleaned/cleaned_matchdata.parquet'\n",
    "parquet_df = spark.read.parquet(file_path)\n",
    "\n",
    "sdf = spark.createDataFrame(parquet_df.rdd, parquet_df.schema)\n",
    "\n",
    "sdf.show()\n",
    "sdf.printSchema()"
   ]
  },
  {
   "cell_type": "code",
   "execution_count": 9,
   "id": "0728c96c",
   "metadata": {},
   "outputs": [
    {
     "data": {
      "text/plain": [
       "DataFrame[index: bigint, hp: bigint, armor: bigint, equipmentValue: bigint, hasHelmet: boolean, num_enemy_alive: bigint, num_team_alive: bigint, enemy_in_range_2000: bigint, team_in_range_500: bigint, hp_closest_enemy: bigint, isDead: double]"
      ]
     },
     "execution_count": 9,
     "metadata": {},
     "output_type": "execute_result"
    }
   ],
   "source": [
    "sdf.sample(False, 0.2)"
   ]
  },
  {
   "cell_type": "code",
   "execution_count": 10,
   "id": "6371947b",
   "metadata": {},
   "outputs": [
    {
     "name": "stderr",
     "output_type": "stream",
     "text": [
      "24/04/20 22:01:33 WARN Instrumentation: [aa3ac30b] regParam is zero, which might cause numerical instability and overfitting.\n",
      "24/04/20 22:03:58 WARN Instrumentation: [7424640a] regParam is zero, which might cause numerical instability and overfitting.\n",
      "24/04/20 22:11:23 WARN Instrumentation: [b80b1ff6] regParam is zero, which might cause numerical instability and overfitting.\n",
      "24/04/20 22:18:01 WARN Instrumentation: [a90f2b43] regParam is zero, which might cause numerical instability and overfitting.\n",
      "24/04/20 22:24:28 WARN Instrumentation: [265df4ab] regParam is zero, which might cause numerical instability and overfitting.\n",
      "                                                                                \r"
     ]
    },
    {
     "name": "stdout",
     "output_type": "stream",
     "text": [
      "Average metric [0.11376746050628334]\n"
     ]
    },
    {
     "name": "stderr",
     "output_type": "stream",
     "text": [
      "                                                                                \r"
     ]
    },
    {
     "name": "stdout",
     "output_type": "stream",
     "text": [
      "+---+-----+--------------+---------+---------------+--------------+-------------------+-----------------+----------------+------+-------------------+\n",
      "|hp |armor|equipmentValue|hasHelmet|num_enemy_alive|num_team_alive|enemy_in_range_2000|team_in_range_500|hp_closest_enemy|isDead|prediction         |\n",
      "+---+-----+--------------+---------+---------------+--------------+-------------------+-----------------+----------------+------+-------------------+\n",
      "|100|0    |400           |false    |5              |5             |0                  |2                |100             |0.0   |0.18538702604823803|\n",
      "|100|0    |400           |false    |5              |5             |0                  |2                |100             |0.0   |0.18538702604823803|\n",
      "|100|0    |400           |false    |5              |5             |0                  |2                |100             |0.0   |0.18538702604823803|\n",
      "|100|0    |400           |false    |5              |5             |2                  |2                |100             |0.0   |0.13993582450110492|\n",
      "|100|0    |400           |false    |5              |5             |3                  |1                |100             |0.0   |0.14726273323232286|\n",
      "|100|0    |400           |false    |5              |5             |3                  |2                |100             |0.0   |0.11721022372753837|\n",
      "|100|0    |400           |false    |5              |5             |3                  |2                |100             |0.0   |0.11721022372753837|\n",
      "|100|0    |400           |false    |5              |5             |3                  |2                |100             |0.0   |0.11721022372753837|\n",
      "|95 |0    |400           |false    |5              |5             |3                  |2                |100             |0.0   |0.13576790577334114|\n",
      "|95 |0    |400           |false    |5              |5             |3                  |2                |100             |0.0   |0.13576790577334114|\n",
      "|95 |0    |400           |false    |5              |5             |3                  |1                |100             |0.0   |0.16582041527812563|\n",
      "|95 |0    |400           |false    |5              |5             |3                  |1                |100             |0.0   |0.16582041527812563|\n",
      "|95 |0    |400           |false    |5              |5             |3                  |1                |100             |0.0   |0.16582041527812563|\n",
      "|95 |0    |400           |false    |5              |5             |3                  |1                |100             |0.0   |0.16582041527812563|\n",
      "|60 |0    |400           |false    |5              |5             |3                  |2                |100             |0.0   |0.2656716800939606 |\n",
      "|0  |0    |0             |false    |5              |3             |0                  |0                |78              |1.0   |0.6616319123372018 |\n",
      "|0  |0    |0             |false    |5              |3             |0                  |0                |78              |1.0   |0.6616319123372018 |\n",
      "|0  |0    |0             |false    |5              |3             |0                  |0                |100             |1.0   |0.6625594321655626 |\n",
      "|0  |0    |0             |false    |5              |3             |0                  |0                |100             |1.0   |0.6625594321655626 |\n",
      "|0  |0    |0             |false    |5              |3             |0                  |0                |100             |1.0   |0.6625594321655626 |\n",
      "+---+-----+--------------+---------+---------------+--------------+-------------------+-----------------+----------------+------+-------------------+\n",
      "only showing top 20 rows\n",
      "\n"
     ]
    },
    {
     "name": "stderr",
     "output_type": "stream",
     "text": [
      "[Stage 43:=============================>                            (1 + 1) / 2]\r"
     ]
    },
    {
     "name": "stdout",
     "output_type": "stream",
     "text": [
      "RMSE: 0.1138158899921759  R-squared:0.6410652558910722\n"
     ]
    },
    {
     "name": "stderr",
     "output_type": "stream",
     "text": [
      "\r",
      "                                                                                \r"
     ]
    }
   ],
   "source": [
    "# Split the data into training and test sets\n",
    "trainingData, testData = sdf.randomSplit([0.70, 0.3], seed=42)\n",
    "\n",
    "feature_cols = [\n",
    "    \"hp\",\n",
    "    \"armor\",\n",
    "    \"equipmentValue\",\n",
    "    \"hasHelmet\",\n",
    "    \"num_enemy_alive\",\n",
    "    \"num_team_alive\",\n",
    "    \"enemy_in_range_2000\",\n",
    "    \"team_in_range_500\",\n",
    "    \"hp_closest_enemy\"\n",
    "]\n",
    "\n",
    "# Create an assembler for the individual feature vectors and the float/double columns\n",
    "assembler = VectorAssembler(inputCols=feature_cols, outputCol=\"features\")\n",
    "\n",
    "scaler = MinMaxScaler(inputCol='features', outputCol=\"featuresScaled\")\n",
    "\n",
    "# Create a Linear Regression Estimator\n",
    "linear_reg = LinearRegression(featuresCol='featuresScaled', labelCol='isDead')\n",
    "\n",
    "# Create a regression evaluator (to get RMSE, R2, RME, etc.)\n",
    "evaluator = RegressionEvaluator(labelCol='isDead')\n",
    "\n",
    "# Create the pipeline   Indexer is stage 0 and Linear Regression (linear_reg)  is stage 3\n",
    "regression_pipe = Pipeline(stages=[assembler, scaler, linear_reg])\n",
    "\n",
    "# Create a grid to hold hyperparameters \n",
    "grid = ParamGridBuilder()\n",
    "\n",
    "# Build the parameter grid\n",
    "grid = grid.build()\n",
    "\n",
    "# Create the CrossValidator using the hyperparameter grid\n",
    "cv = CrossValidator(estimator=regression_pipe, \n",
    "                    estimatorParamMaps=grid, \n",
    "                    evaluator=evaluator, \n",
    "                    numFolds=3)\n",
    "\n",
    "# Train the models\n",
    "all_models  = cv.fit(trainingData)\n",
    "\n",
    "# Show the average performance over the three folds\n",
    "print(f\"Average metric {all_models.avgMetrics}\")\n",
    "\n",
    "# Get the best model from all of the models trained\n",
    "bestModel = all_models.bestModel\n",
    "\n",
    "# Use the model 'bestModel' to predict the test set\n",
    "test_results = bestModel.transform(testData)\n",
    "# Show the predicted tip\n",
    "test_results.select('hp', 'armor', 'equipmentValue', 'hasHelmet', 'num_enemy_alive', 'num_team_alive',\n",
    "                    'enemy_in_range_2000', 'team_in_range_500', 'hp_closest_enemy', 'isDead', 'prediction').show(truncate=False)\n",
    "# Calculate RMSE and R2\n",
    "rmse = evaluator.evaluate(test_results, {evaluator.metricName:'rmse'})\n",
    "r2 =evaluator.evaluate(test_results,{evaluator.metricName:'r2'})\n",
    "print(f\"RMSE: {rmse}  R-squared:{r2}\")"
   ]
  },
  {
   "cell_type": "code",
   "execution_count": 14,
   "id": "0dd147e3",
   "metadata": {},
   "outputs": [
    {
     "name": "stderr",
     "output_type": "stream",
     "text": [
      "                                                                                \r"
     ]
    }
   ],
   "source": [
    "model_path = \"gs://my-project-bucket-px/models/csgo_linear_regression_model\"\n",
    "bestModel.write().overwrite().save(model_path)"
   ]
  },
  {
   "cell_type": "code",
   "execution_count": 18,
   "id": "d65e06ef",
   "metadata": {},
   "outputs": [
    {
     "name": "stderr",
     "output_type": "stream",
     "text": [
      "                                                                                \r"
     ]
    }
   ],
   "source": [
    "trust_path = \"gs://my-project-bucket-px/trusted/matchdataFeatures.parquet\"\n",
    "test_results.write.parquet(trust_path)"
   ]
  },
  {
   "cell_type": "code",
   "execution_count": null,
   "id": "744d33bb",
   "metadata": {},
   "outputs": [],
   "source": []
  }
 ],
 "metadata": {
  "kernelspec": {
   "display_name": "Python 3 (ipykernel)",
   "language": "python",
   "name": "python3"
  },
  "language_info": {
   "codemirror_mode": {
    "name": "ipython",
    "version": 3
   },
   "file_extension": ".py",
   "mimetype": "text/x-python",
   "name": "python",
   "nbconvert_exporter": "python",
   "pygments_lexer": "ipython3",
   "version": "3.10.9"
  }
 },
 "nbformat": 4,
 "nbformat_minor": 5
}
